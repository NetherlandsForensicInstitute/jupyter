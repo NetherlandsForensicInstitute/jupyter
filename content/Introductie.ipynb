{
  "metadata": {
    "language_info": {
      "codemirror_mode": {
        "name": "python",
        "version": 3
      },
      "file_extension": ".py",
      "mimetype": "text/x-python",
      "name": "python",
      "nbconvert_exporter": "python",
      "pygments_lexer": "ipython3",
      "version": "3.8"
    },
    "kernelspec": {
      "name": "python",
      "display_name": "Python (Pyodide)",
      "language": "python"
    }
  },
  "nbformat_minor": 4,
  "nbformat": 4,
  "cells": [
    {
      "cell_type": "markdown",
      "source": "## Wat is Jupyter Lite?\n\nJupyter Lite is een lichtgewicht versie van Python en Jupyter. De browser voert de Python code uit.\nDit is anders dan bij Jupyter Notebook en Jupyter Hub. \nDaar draait de Python code op een server.",
      "metadata": {}
    },
    {
      "cell_type": "markdown",
      "source": "## Hoe installeer ik Python modules?\n\nPython modules kunnen geinstalleerd worden, mits ze geen \"binary modules\" bevatten.\nHet moet dus om pure Python modules gaan.\nInstallatie kan met `piplite`. Hieronder installeren we bijvoorbeeld een paar Python modules die ontwikkeld zijn door het NFI:",
      "metadata": {}
    },
    {
      "cell_type": "code",
      "source": "import piplite",
      "metadata": {},
      "execution_count": null,
      "outputs": []
    },
    {
      "cell_type": "code",
      "source": "# Installeer lir, een Python module om LR systemen te kalibreren\nawait piplite.install('lir')",
      "metadata": {
        "trusted": true
      },
      "execution_count": 2,
      "outputs": []
    },
    {
      "cell_type": "code",
      "source": "# Installeer confidence, een Python module om Python projecten te configureren met .yaml bestanden\nawait piplite.install('confidence')",
      "metadata": {
        "trusted": true
      },
      "execution_count": 3,
      "outputs": []
    },
    {
      "cell_type": "code",
      "source": "# Installeer hansken.py, de Python API voor Hansken\nawait piplite.install('hansken')",
      "metadata": {
        "trusted": true
      },
      "execution_count": 4,
      "outputs": []
    },
    {
      "cell_type": "markdown",
      "source": "## Welke packages zijn al aanwezig?\n\nDoor de ontwikkelaars van Pyodide zijn patches gemaakt om verschillende populaire Python packages voor de browser te kunnen bouwen. Raadpleeg de documentatie van Pyodide om te zien welke dat zijn, of probeer ze gewoon te importeren.",
      "metadata": {}
    },
    {
      "cell_type": "code",
      "source": "# Veel wetenschappelijke Python modules zijn al beschikbaar\nimport scipy\nimport numpy\nimport pandas\nimport sklearn\nimport statsmodels",
      "metadata": {
        "trusted": true
      },
      "execution_count": 7,
      "outputs": []
    },
    {
      "cell_type": "markdown",
      "source": "## Waar moet ik aan denken?\n\n+ Bedenk altijd of en hoe je (zaaks)data mag verwerken, en of dit een geschikte manier is.\n+ Bedenk dat de notebooks opgeslagen zijn in je browser-data. Door bijvoorbeeld updates kan dat verdwijnen. Maak altijd kopieën van je notebook (met File > Download).\n+ Als je merkt dat je project \"uit Jupyter Lite groeit\", kan het de moeite lonen over te stappen naar Jupyter Notebook, Jupyter Hub, of een Python interpreter met een IDE (PyCharm + Anaconda bijvoorbeeld).\n+ Vraag vooral om hulp bij je lokale Python ontwikkelaar / data scientist, als je ergens op vastloopt!",
      "metadata": {}
    }
  ]
}