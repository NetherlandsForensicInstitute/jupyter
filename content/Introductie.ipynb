{
  "metadata": {
    "language_info": {
      "codemirror_mode": {
        "name": "python",
        "version": 3
      },
      "file_extension": ".py",
      "mimetype": "text/x-python",
      "name": "python",
      "nbconvert_exporter": "python",
      "pygments_lexer": "ipython3",
      "version": "3.8"
    },
    "kernelspec": {
      "name": "python",
      "display_name": "Python (Pyodide)",
      "language": "python"
    }
  },
  "nbformat_minor": 4,
  "nbformat": 4,
  "cells": [
    {
      "cell_type": "code",
      "source": "import piplite",
      "metadata": {
        "trusted": true
      },
      "execution_count": 1,
      "outputs": []
    },
    {
      "cell_type": "code",
      "source": "# Installeer lir, een Python module om LR systemen te kalibreren\nawait piplite.install('lir')",
      "metadata": {
        "trusted": true
      },
      "execution_count": 4,
      "outputs": []
    },
    {
      "cell_type": "code",
      "source": "# Installeer confidence, een Python module om Python projecten te configureren met .yaml bestanden\nawait piplite.install('confidence')",
      "metadata": {
        "trusted": true
      },
      "execution_count": 9,
      "outputs": []
    },
    {
      "cell_type": "code",
      "source": "# Installeer hansken.py, de Python API voor Hansken\nawait piplite.install('hansken')",
      "metadata": {
        "trusted": true
      },
      "execution_count": 12,
      "outputs": []
    },
    {
      "cell_type": "code",
      "source": "# Veel wetenschappelijke Python modules zijn ook beschikbaar\nimport scipy\nimport numpy\nimport pandas\nimport sklearn\nimport hansken",
      "metadata": {
        "trusted": true
      },
      "execution_count": 14,
      "outputs": []
    }
  ]
}